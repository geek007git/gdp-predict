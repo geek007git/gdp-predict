{
  "nbformat": 4,
  "nbformat_minor": 0,
  "metadata": {
    "colab": {
      "provenance": [],
      "include_colab_link": true
    },
    "kernelspec": {
      "name": "python3",
      "display_name": "Python 3"
    },
    "language_info": {
      "name": "python"
    },
    "widgets": {
      "application/vnd.jupyter.widget-state+json": {
        "9f4bf4fe1f4c40fc8e59c04e59a3648d": {
          "model_module": "@jupyter-widgets/controls",
          "model_name": "VBoxModel",
          "model_module_version": "1.5.0",
          "state": {
            "_dom_classes": [
              "widget-interact"
            ],
            "_model_module": "@jupyter-widgets/controls",
            "_model_module_version": "1.5.0",
            "_model_name": "VBoxModel",
            "_view_count": null,
            "_view_module": "@jupyter-widgets/controls",
            "_view_module_version": "1.5.0",
            "_view_name": "VBoxView",
            "box_style": "",
            "children": [
              "IPY_MODEL_e0fb906a5ff9404aaa4bd6d5d1a62d57",
              "IPY_MODEL_f18935be91e14162b61ba06abb3429f2"
            ],
            "layout": "IPY_MODEL_55670657e5d5444582edb540546a988d"
          }
        },
        "e0fb906a5ff9404aaa4bd6d5d1a62d57": {
          "model_module": "@jupyter-widgets/controls",
          "model_name": "DropdownModel",
          "model_module_version": "1.5.0",
          "state": {
            "_dom_classes": [],
            "_model_module": "@jupyter-widgets/controls",
            "_model_module_version": "1.5.0",
            "_model_name": "DropdownModel",
            "_options_labels": [
              "Afghanistan",
              "Albania",
              "Algeria",
              "Andorra",
              "Angola",
              "Antigua and Barbuda",
              "Argentina",
              "Armenia",
              "Aruba",
              "Australia",
              "Austria",
              "Azerbaijan",
              "Bahamas",
              "Bahrain",
              "Bangladesh",
              "Barbados",
              "Belarus",
              "Belgium",
              "Belize",
              "Benin",
              "Bhutan",
              "Bolivia",
              "Bosnia and Herzegovina",
              "Botswana",
              "Brazil",
              "Brunei",
              "Bulgaria",
              "Burkina Faso",
              "Burundi",
              "Cambodia",
              "Cameroon",
              "Canada",
              "Cape Verde",
              "Central African Republic",
              "Chad",
              "Chile",
              "China",
              "Colombia",
              "Comoros",
              "Costa Rica",
              "Croatia",
              "Cyprus",
              "Czech Republic",
              "Democratic Republic of the Congo",
              "Denmark",
              "Djibouti",
              "Dominica",
              "Dominican Republic",
              "Ecuador",
              "Egypt",
              "El Salvador",
              "Equatorial Guinea",
              "Eritrea",
              "Estonia",
              "Eswatini",
              "Ethiopia",
              "Federated States of Micronesia",
              "Fiji",
              "Finland",
              "France",
              "Gabon",
              "Gambia",
              "Georgia",
              "Germany",
              "Ghana",
              "Greece",
              "Grenada",
              "Guatemala",
              "Guinea",
              "Guinea-Bissau",
              "Guyana",
              "Haiti",
              "Honduras",
              "Hong Kong",
              "Hungary",
              "Iceland",
              "India",
              "Indonesia",
              "Iran",
              "Iraq",
              "Ireland",
              "Israel",
              "Italy",
              "Ivory Coast",
              "Jamaica",
              "Japan",
              "Jordan",
              "Kazakhstan",
              "Kenya",
              "Kiribati",
              "Kosovo",
              "Kuwait",
              "Kyrgyzstan",
              "Laos",
              "Latvia",
              "Lebanon",
              "Lesotho",
              "Liberia",
              "Libya",
              "Lithuania",
              "Luxembourg",
              "Macau",
              "Madagascar",
              "Malawi",
              "Malaysia",
              "Maldives",
              "Mali",
              "Malta",
              "Marshall Islands",
              "Mauritania",
              "Mauritius",
              "Mexico",
              "Moldova",
              "Mongolia",
              "Montenegro",
              "Morocco",
              "Mozambique",
              "Myanmar",
              "Namibia",
              "Nauru",
              "Nepal",
              "Netherlands",
              "New Zealand",
              "Nicaragua",
              "Niger",
              "Nigeria",
              "North Macedonia",
              "Norway",
              "Oman",
              "Pakistan",
              "Palau",
              "Palestine",
              "Panama",
              "Papua New Guinea",
              "Paraguay",
              "Peru",
              "Philippines",
              "Poland",
              "Portugal",
              "Puerto Rico",
              "Qatar",
              "Republic of the Congo",
              "Romania",
              "Russia",
              "Rwanda",
              "Saint Kitts and Nevis",
              "Saint Lucia",
              "Saint Vincent and the Grenadines",
              "Samoa",
              "San Marino",
              "Saudi Arabia",
              "Senegal",
              "Serbia",
              "Seychelles",
              "Sierra Leone",
              "Singapore",
              "Slovakia",
              "Slovenia",
              "Solomon Islands",
              "Somalia",
              "South Africa",
              "South Korea",
              "South Sudan",
              "Spain",
              "Sri Lanka",
              "Sudan",
              "Suriname",
              "Sweden",
              "Switzerland",
              "Syria",
              "São Tomé and Príncipe",
              "Taiwan",
              "Tajikistan",
              "Tanzania",
              "Thailand",
              "Timor-Leste",
              "Togo",
              "Tonga",
              "Trinidad and Tobago",
              "Tunisia",
              "Turkey",
              "Turkmenistan",
              "Tuvalu",
              "Uganda",
              "Ukraine",
              "United Arab Emirates",
              "United Kingdom",
              "United States",
              "Uruguay",
              "Uzbekistan",
              "Vanuatu",
              "Venezuela",
              "Vietnam",
              "Yemen",
              "Zambia",
              "Zimbabwe"
            ],
            "_view_count": null,
            "_view_module": "@jupyter-widgets/controls",
            "_view_module_version": "1.5.0",
            "_view_name": "DropdownView",
            "description": "Country:",
            "description_tooltip": null,
            "disabled": false,
            "index": 17,
            "layout": "IPY_MODEL_56a27f2da4e2462caf46f5097841e0cd",
            "style": "IPY_MODEL_ba80303438e54ace9e76d92b1e754895"
          }
        },
        "f18935be91e14162b61ba06abb3429f2": {
          "model_module": "@jupyter-widgets/output",
          "model_name": "OutputModel",
          "model_module_version": "1.0.0",
          "state": {
            "_dom_classes": [],
            "_model_module": "@jupyter-widgets/output",
            "_model_module_version": "1.0.0",
            "_model_name": "OutputModel",
            "_view_count": null,
            "_view_module": "@jupyter-widgets/output",
            "_view_module_version": "1.0.0",
            "_view_name": "OutputView",
            "layout": "IPY_MODEL_a669ee9d524648a1b31436f3df8b73de",
            "msg_id": "",
            "outputs": [
              {
                "output_type": "display_data",
                "data": {
                  "text/plain": "<Figure size 800x500 with 1 Axes>",
                  "image/png": "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\n"
                },
                "metadata": {}
              }
            ]
          }
        },
        "55670657e5d5444582edb540546a988d": {
          "model_module": "@jupyter-widgets/base",
          "model_name": "LayoutModel",
          "model_module_version": "1.2.0",
          "state": {
            "_model_module": "@jupyter-widgets/base",
            "_model_module_version": "1.2.0",
            "_model_name": "LayoutModel",
            "_view_count": null,
            "_view_module": "@jupyter-widgets/base",
            "_view_module_version": "1.2.0",
            "_view_name": "LayoutView",
            "align_content": null,
            "align_items": null,
            "align_self": null,
            "border": null,
            "bottom": null,
            "display": null,
            "flex": null,
            "flex_flow": null,
            "grid_area": null,
            "grid_auto_columns": null,
            "grid_auto_flow": null,
            "grid_auto_rows": null,
            "grid_column": null,
            "grid_gap": null,
            "grid_row": null,
            "grid_template_areas": null,
            "grid_template_columns": null,
            "grid_template_rows": null,
            "height": null,
            "justify_content": null,
            "justify_items": null,
            "left": null,
            "margin": null,
            "max_height": null,
            "max_width": null,
            "min_height": null,
            "min_width": null,
            "object_fit": null,
            "object_position": null,
            "order": null,
            "overflow": null,
            "overflow_x": null,
            "overflow_y": null,
            "padding": null,
            "right": null,
            "top": null,
            "visibility": null,
            "width": null
          }
        },
        "56a27f2da4e2462caf46f5097841e0cd": {
          "model_module": "@jupyter-widgets/base",
          "model_name": "LayoutModel",
          "model_module_version": "1.2.0",
          "state": {
            "_model_module": "@jupyter-widgets/base",
            "_model_module_version": "1.2.0",
            "_model_name": "LayoutModel",
            "_view_count": null,
            "_view_module": "@jupyter-widgets/base",
            "_view_module_version": "1.2.0",
            "_view_name": "LayoutView",
            "align_content": null,
            "align_items": null,
            "align_self": null,
            "border": null,
            "bottom": null,
            "display": null,
            "flex": null,
            "flex_flow": null,
            "grid_area": null,
            "grid_auto_columns": null,
            "grid_auto_flow": null,
            "grid_auto_rows": null,
            "grid_column": null,
            "grid_gap": null,
            "grid_row": null,
            "grid_template_areas": null,
            "grid_template_columns": null,
            "grid_template_rows": null,
            "height": null,
            "justify_content": null,
            "justify_items": null,
            "left": null,
            "margin": null,
            "max_height": null,
            "max_width": null,
            "min_height": null,
            "min_width": null,
            "object_fit": null,
            "object_position": null,
            "order": null,
            "overflow": null,
            "overflow_x": null,
            "overflow_y": null,
            "padding": null,
            "right": null,
            "top": null,
            "visibility": null,
            "width": "400px"
          }
        },
        "ba80303438e54ace9e76d92b1e754895": {
          "model_module": "@jupyter-widgets/controls",
          "model_name": "DescriptionStyleModel",
          "model_module_version": "1.5.0",
          "state": {
            "_model_module": "@jupyter-widgets/controls",
            "_model_module_version": "1.5.0",
            "_model_name": "DescriptionStyleModel",
            "_view_count": null,
            "_view_module": "@jupyter-widgets/base",
            "_view_module_version": "1.2.0",
            "_view_name": "StyleView",
            "description_width": "initial"
          }
        },
        "a669ee9d524648a1b31436f3df8b73de": {
          "model_module": "@jupyter-widgets/base",
          "model_name": "LayoutModel",
          "model_module_version": "1.2.0",
          "state": {
            "_model_module": "@jupyter-widgets/base",
            "_model_module_version": "1.2.0",
            "_model_name": "LayoutModel",
            "_view_count": null,
            "_view_module": "@jupyter-widgets/base",
            "_view_module_version": "1.2.0",
            "_view_name": "LayoutView",
            "align_content": null,
            "align_items": null,
            "align_self": null,
            "border": null,
            "bottom": null,
            "display": null,
            "flex": null,
            "flex_flow": null,
            "grid_area": null,
            "grid_auto_columns": null,
            "grid_auto_flow": null,
            "grid_auto_rows": null,
            "grid_column": null,
            "grid_gap": null,
            "grid_row": null,
            "grid_template_areas": null,
            "grid_template_columns": null,
            "grid_template_rows": null,
            "height": null,
            "justify_content": null,
            "justify_items": null,
            "left": null,
            "margin": null,
            "max_height": null,
            "max_width": null,
            "min_height": null,
            "min_width": null,
            "object_fit": null,
            "object_position": null,
            "order": null,
            "overflow": null,
            "overflow_x": null,
            "overflow_y": null,
            "padding": null,
            "right": null,
            "top": null,
            "visibility": null,
            "width": null
          }
        }
      }
    }
  },
  "cells": [
    {
      "cell_type": "markdown",
      "metadata": {
        "id": "view-in-github",
        "colab_type": "text"
      },
      "source": [
        "<a href=\"https://colab.research.google.com/github/geek007git/gdp-predict/blob/main/country_forecast_model.ipynb\" target=\"_parent\"><img src=\"https://colab.research.google.com/assets/colab-badge.svg\" alt=\"Open In Colab\"/></a>"
      ]
    },
    {
      "cell_type": "code",
      "execution_count": null,
      "metadata": {
        "id": "a51DB5bUX5vH"
      },
      "outputs": [],
      "source": [
        "import pandas as pd"
      ]
    },
    {
      "cell_type": "code",
      "source": [
        "df = pd.read_csv(\"/content/gdp.csv\")\n",
        "print(df.head())"
      ],
      "metadata": {
        "colab": {
          "base_uri": "https://localhost:8080/"
        },
        "id": "QCPlgqqwYXmL",
        "outputId": "85293cc2-3280-4f65-d5dd-d0776fcfd76a"
      },
      "execution_count": null,
      "outputs": [
        {
          "output_type": "stream",
          "name": "stdout",
          "text": [
            "       Country    2020      2021      2022      2023      2024      2025\n",
            "0  Afghanistan   20136   14278.0   14501.0   17248.0       NaN       NaN\n",
            "1      Albania   15271   18086.0   19185.0   23388.0   27259.0   28372.0\n",
            "2      Algeria  164774  185850.0  225709.0  247789.0  264913.0  268885.0\n",
            "3      Andorra    2885    3325.0    3376.0    3786.0    4038.0    4035.0\n",
            "4       Angola   66521   84375.0  142442.0  109764.0  115946.0  113343.0\n"
          ]
        }
      ]
    },
    {
      "cell_type": "code",
      "source": [
        "df_long = df.melt(id_vars=\"Country\", var_name=\"Year\", value_name=\"Value\")\n",
        "df_long[\"Year\"] = df_long[\"Year\"].astype(int)\n",
        "print(df_long.head())\n"
      ],
      "metadata": {
        "colab": {
          "base_uri": "https://localhost:8080/"
        },
        "id": "915emmBpcRx0",
        "outputId": "ce913570-0cdb-4f6c-e56d-a02c80737cc4"
      },
      "execution_count": null,
      "outputs": [
        {
          "output_type": "stream",
          "name": "stdout",
          "text": [
            "       Country  Year     Value\n",
            "0  Afghanistan  2020   20136.0\n",
            "1      Albania  2020   15271.0\n",
            "2      Algeria  2020  164774.0\n",
            "3      Andorra  2020    2885.0\n",
            "4       Angola  2020   66521.0\n"
          ]
        }
      ]
    },
    {
      "cell_type": "code",
      "source": [
        "\n",
        "df_long[\"Value\"] = df_long.groupby(\"Country\")[\"Value\"].transform(lambda x: x.interpolate())\n"
      ],
      "metadata": {
        "id": "HmF7t0LPceLm"
      },
      "execution_count": null,
      "outputs": []
    },
    {
      "cell_type": "code",
      "source": [
        "from sklearn.linear_model import LinearRegression\n",
        "import numpy as np\n",
        "\n",
        "future_years = np.arange(2026, 2031).reshape(-1, 1)  # 2026 → 2030\n",
        "forecasts = {}\n",
        "\n",
        "for country in df[\"Country\"]:\n",
        "    country_data = df_long[df_long[\"Country\"] == country].dropna()\n",
        "\n",
        "    X = country_data[\"Year\"].values.reshape(-1, 1)\n",
        "    y = country_data[\"Value\"].values\n",
        "\n",
        "    model = LinearRegression()\n",
        "    model.fit(X, y)\n",
        "\n",
        "    preds = model.predict(future_years)\n",
        "    forecasts[country] = preds\n",
        "\n",
        "\n",
        "forecast_df = pd.DataFrame(forecasts, index=range(2026, 2031))\n",
        "print(forecast_df.head())\n"
      ],
      "metadata": {
        "colab": {
          "base_uri": "https://localhost:8080/"
        },
        "id": "Buv-zLRhclNU",
        "outputId": "5244a943-55db-43bb-a814-4dd7602ec459"
      },
      "execution_count": null,
      "outputs": [
        {
          "output_type": "stream",
          "name": "stdout",
          "text": [
            "       Afghanistan       Albania        Algeria      Andorra         Angola  \\\n",
            "2026  16498.200000  31649.533333  304302.400000  4404.066667  135013.000000   \n",
            "2027  16418.685714  34427.447619  326583.085714  4641.180952  143474.285714   \n",
            "2028  16339.171429  37205.361905  348863.771429  4878.295238  151935.571429   \n",
            "2029  16259.657143  39983.276190  371144.457143  5115.409524  160396.857143   \n",
            "2030  16180.142857  42761.190476  393425.142857  5352.523810  168858.142857   \n",
            "\n",
            "      Antigua and Barbuda      Argentina       Armenia        Aruba  \\\n",
            "2026          2595.466667  771769.133333  31080.066667  4550.066667   \n",
            "2027          2790.123810  827285.790476  34154.752381  4878.895238   \n",
            "2028          2984.780952  882802.447619  37229.438095  5207.723810   \n",
            "2029          3179.438095  938319.104762  40304.123810  5536.552381   \n",
            "2030          3374.095238  993835.761905  43378.809524  5865.380952   \n",
            "\n",
            "         Australia  ...  United States        Uruguay     Uzbekistan  \\\n",
            "2026  1.924333e+06  ...   3.280822e+07   90490.400000  142889.333333   \n",
            "2027  1.995340e+06  ...   3.463652e+07   96173.942857  155905.904762   \n",
            "2028  2.066346e+06  ...   3.646482e+07  101857.485714  168922.476190   \n",
            "2029  2.137353e+06  ...   3.829312e+07  107541.028571  181939.047619   \n",
            "2030  2.208359e+06  ...   4.012142e+07  113224.571429  194955.619048   \n",
            "\n",
            "          Vanuatu      Venezuela        Vietnam     Palestine         Yemen  \\\n",
            "2026  1328.933333  139657.800000  519826.800000  18673.066667  17934.066667   \n",
            "2027  1392.819048  154838.028571  548781.885714  18943.895238  17388.466667   \n",
            "2028  1456.704762  170018.257143  577736.971429  19214.723810  16842.866667   \n",
            "2029  1520.590476  185198.485714  606692.057143  19485.552381  16297.266667   \n",
            "2030  1584.476190  200378.714286  635647.142857  19756.380952  15751.666667   \n",
            "\n",
            "            Zambia      Zimbabwe  \n",
            "2026  31865.066667  39670.333333  \n",
            "2027  33721.180952  41288.190476  \n",
            "2028  35577.295238  42906.047619  \n",
            "2029  37433.409524  44523.904762  \n",
            "2030  39289.523810  46141.761905  \n",
            "\n",
            "[5 rows x 196 columns]\n"
          ]
        }
      ]
    },
    {
      "cell_type": "code",
      "source": [
        "import matplotlib.pyplot as plt\n",
        "import ipywidgets as widgets\n",
        "from IPython.display import display\n",
        "\n",
        "\n",
        "country_dropdown = widgets.Dropdown(\n",
        "    options=sorted(df[\"Country\"].unique()),\n",
        "    description=\"Country:\",\n",
        "    style={'description_width': 'initial'},\n",
        "    layout={'width': '400px'}\n",
        ")\n",
        "\n",
        "\n",
        "def plot_forecast(country):\n",
        "    past = df_long[df_long[\"Country\"] == country]\n",
        "\n",
        "    plt.figure(figsize=(8,5))\n",
        "    plt.plot(past[\"Year\"], past[\"Value\"], marker=\"o\", label=f\"{country} (Actual)\")\n",
        "    plt.plot(forecast_df.index, forecast_df[country], marker=\"x\", linestyle=\"--\", label=f\"{country} (Forecast)\")\n",
        "\n",
        "    plt.xlabel(\"Year\")\n",
        "    plt.ylabel(\"Value\")\n",
        "    plt.title(f\"Forecast for {country} (2020–2030)\")\n",
        "    plt.legend()\n",
        "    plt.show()\n",
        "\n",
        "\n",
        "widgets.interact(plot_forecast, country=country_dropdown)\n",
        "print(\"all the value is in USD\")\n"
      ],
      "metadata": {
        "colab": {
          "base_uri": "https://localhost:8080/",
          "height": 536,
          "referenced_widgets": [
            "9f4bf4fe1f4c40fc8e59c04e59a3648d",
            "e0fb906a5ff9404aaa4bd6d5d1a62d57",
            "f18935be91e14162b61ba06abb3429f2",
            "55670657e5d5444582edb540546a988d",
            "56a27f2da4e2462caf46f5097841e0cd",
            "ba80303438e54ace9e76d92b1e754895",
            "a669ee9d524648a1b31436f3df8b73de"
          ]
        },
        "id": "D6fmMchKdKLK",
        "outputId": "7b0c34b8-d94e-4dd0-a828-1e1ad0f84986"
      },
      "execution_count": null,
      "outputs": [
        {
          "output_type": "display_data",
          "data": {
            "text/plain": [
              "interactive(children=(Dropdown(description='Country:', layout=Layout(width='400px'), options=('Afghanistan', '…"
            ],
            "application/vnd.jupyter.widget-view+json": {
              "version_major": 2,
              "version_minor": 0,
              "model_id": "9f4bf4fe1f4c40fc8e59c04e59a3648d"
            }
          },
          "metadata": {}
        },
        {
          "output_type": "stream",
          "name": "stdout",
          "text": [
            "all the value is in USD\n"
          ]
        }
      ]
    }
  ]
}